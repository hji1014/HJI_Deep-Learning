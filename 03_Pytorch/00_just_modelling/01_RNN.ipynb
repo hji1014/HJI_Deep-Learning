{
 "cells": [
  {
   "cell_type": "code",
   "execution_count": 1,
   "id": "393cd711",
   "metadata": {},
   "outputs": [
    {
     "name": "stdout",
     "output_type": "stream",
     "text": [
      "cuda\n"
     ]
    }
   ],
   "source": [
    "import torch\n",
    "import torch.nn as nn\n",
    "\n",
    "device = 'cuda' if torch.cuda.is_available() else 'cpu'\n",
    "print(device)"
   ]
  },
  {
   "cell_type": "code",
   "execution_count": 2,
   "id": "f04f95c5",
   "metadata": {},
   "outputs": [],
   "source": [
    "# 입력, 은닉 상태의 크기\n",
    "\n",
    "input_size = 5\n",
    "hidden_size = 8"
   ]
  },
  {
   "cell_type": "code",
   "execution_count": 3,
   "id": "706d5a92",
   "metadata": {},
   "outputs": [
    {
     "name": "stdout",
     "output_type": "stream",
     "text": [
      "torch.Size([2, 4, 5])\n"
     ]
    }
   ],
   "source": [
    "# [I, am, a, student]라는 문장을 RNN에 넣는다고 가정.\n",
    "\n",
    "# (1) inputs의 shape : (데이터의 개수-N, 문장의 길이-L, 단어 벡터의 차원-H_in) if batch_first=True\n",
    "# (2) inputs의 shape : (문장의 길이-L, 데이터의 개수-N, 단어 벡터의 차원-H_in) if batch_first=False\n",
    "\n",
    "# * 데이터의 개수 = batch_size\n",
    "\n",
    "inputs = torch.Tensor(2, 4, 5)    # (1) case로 진행\n",
    "print(inputs.shape)"
   ]
  },
  {
   "cell_type": "markdown",
   "id": "95b7497d",
   "metadata": {},
   "source": [
    "## 1 layer (Basic RNN)"
   ]
  },
  {
   "cell_type": "code",
   "execution_count": 4,
   "id": "2c80271b",
   "metadata": {},
   "outputs": [],
   "source": [
    "# modelling - 1 layer\n",
    "## 10 layers (Deep RNN)\n",
    "cell = nn.RNN(input_size, hidden_size, batch_first=True)"
   ]
  },
  {
   "cell_type": "code",
   "execution_count": 5,
   "id": "5f8ec15e",
   "metadata": {},
   "outputs": [],
   "source": [
    "# output 뽑기\n",
    "\n",
    "# outputs : 모든 시점의 은닉 상태의 값\n",
    "# hidden : 마지막 시점의 은닉 상태의 값\n",
    "\n",
    "outputs, hidden = cell(inputs)"
   ]
  },
  {
   "cell_type": "code",
   "execution_count": 6,
   "id": "a3769173",
   "metadata": {},
   "outputs": [
    {
     "name": "stdout",
     "output_type": "stream",
     "text": [
      "torch.Size([2, 4, 8])\n",
      "tensor([[[ 0.3067, -0.0985, -0.1506, -0.1892,  0.3761, -0.0633,  0.1175,\n",
      "          -0.0425],\n",
      "         [ 0.4813, -0.1452, -0.1330, -0.3016,  0.3191,  0.1238, -0.1026,\n",
      "          -0.0296],\n",
      "         [-1.0000,  1.0000,  1.0000, -1.0000,  1.0000,  1.0000, -1.0000,\n",
      "          -1.0000],\n",
      "         [ 1.0000,  1.0000,  1.0000, -1.0000, -1.0000,  1.0000, -1.0000,\n",
      "           1.0000]],\n",
      "\n",
      "        [[ 0.3067, -0.0985, -0.1506, -0.1892,  0.3761, -0.0633,  0.1175,\n",
      "          -0.0425],\n",
      "         [ 0.4813, -0.1452, -0.1330, -0.3016,  0.3191,  0.1238, -0.1026,\n",
      "          -0.0296],\n",
      "         [ 0.4965, -0.1939, -0.2288, -0.3265,  0.3176,  0.1100, -0.1071,\n",
      "          -0.0180],\n",
      "         [ 0.5009, -0.2010, -0.2180, -0.3479,  0.3169,  0.0953, -0.1498,\n",
      "          -0.0397]]], grad_fn=<TransposeBackward1>)\n"
     ]
    }
   ],
   "source": [
    "# (N, L, H_out) if batch_first=True\n",
    "# (L, N, H_out) if batch_first=False\n",
    "\n",
    "print(outputs.shape)\n",
    "print(outputs)"
   ]
  },
  {
   "cell_type": "code",
   "execution_count": 7,
   "id": "5eceae8e",
   "metadata": {},
   "outputs": [
    {
     "name": "stdout",
     "output_type": "stream",
     "text": [
      "torch.Size([1, 2, 8])\n",
      "tensor([[[ 1.0000,  1.0000,  1.0000, -1.0000, -1.0000,  1.0000, -1.0000,\n",
      "           1.0000],\n",
      "         [ 0.5009, -0.2010, -0.2180, -0.3479,  0.3169,  0.0953, -0.1498,\n",
      "          -0.0397]]], grad_fn=<StackBackward>)\n"
     ]
    }
   ],
   "source": [
    "# (num_layers, N, H_out)\n",
    "\n",
    "print(hidden.shape)\n",
    "print(hidden)"
   ]
  },
  {
   "cell_type": "markdown",
   "id": "2cb561c3",
   "metadata": {},
   "source": [
    "## 10 layers (Deep RNN)"
   ]
  },
  {
   "cell_type": "code",
   "execution_count": 8,
   "id": "a5bb95db",
   "metadata": {},
   "outputs": [],
   "source": [
    "# modelling - 10 layers (Deep RNN)\n",
    "\n",
    "cell = nn.RNN(input_size, hidden_size, num_layers=10, batch_first=True)"
   ]
  },
  {
   "cell_type": "code",
   "execution_count": 9,
   "id": "615ffa2a",
   "metadata": {},
   "outputs": [],
   "source": [
    "# output 뽑기\n",
    "\n",
    "# outputs : 모든 시점의 은닉 상태의 값\n",
    "# hidden : 마지막 시점의 은닉 상태의 값\n",
    "\n",
    "outputs, hidden = cell(inputs)"
   ]
  },
  {
   "cell_type": "code",
   "execution_count": 10,
   "id": "bc373a6e",
   "metadata": {},
   "outputs": [
    {
     "name": "stdout",
     "output_type": "stream",
     "text": [
      "torch.Size([2, 4, 8])\n",
      "tensor([[[ 0.2962, -0.1407,  0.2966,  0.4263,  0.1446, -0.1136,  0.2729,\n",
      "           0.2922],\n",
      "         [ 0.4342,  0.0308,  0.4722,  0.3067,  0.2648, -0.2280,  0.3936,\n",
      "           0.2017],\n",
      "         [ 0.4444,  0.0978,  0.4206,  0.1936,  0.3557, -0.3841,  0.3629,\n",
      "           0.1360],\n",
      "         [ 0.4942,  0.1388,  0.3564,  0.1916,  0.3304, -0.3886,  0.3302,\n",
      "           0.2090]],\n",
      "\n",
      "        [[ 0.2962, -0.1407,  0.2966,  0.4263,  0.1446, -0.1136,  0.2729,\n",
      "           0.2922],\n",
      "         [ 0.4342,  0.0308,  0.4722,  0.3067,  0.2648, -0.2280,  0.3936,\n",
      "           0.2017],\n",
      "         [ 0.4445,  0.0973,  0.4222,  0.1945,  0.3551, -0.3823,  0.3634,\n",
      "           0.1371],\n",
      "         [ 0.4906,  0.1436,  0.3520,  0.1878,  0.3373, -0.3924,  0.3265,\n",
      "           0.2045]]], grad_fn=<TransposeBackward1>)\n"
     ]
    }
   ],
   "source": [
    "# (N, L, H_out) if batch_first=True\n",
    "# (L, N, H_out) if batch_first=False\n",
    "\n",
    "print(outputs.shape)\n",
    "print(outputs)"
   ]
  },
  {
   "cell_type": "code",
   "execution_count": 11,
   "id": "87cb0c9f",
   "metadata": {},
   "outputs": [
    {
     "name": "stdout",
     "output_type": "stream",
     "text": [
      "torch.Size([10, 2, 8])\n",
      "tensor([[[-1.0000, -1.0000, -1.0000, -1.0000,  1.0000,  1.0000, -1.0000,\n",
      "          -1.0000],\n",
      "         [-0.1510,  0.3594, -0.1591,  0.3550, -0.0389, -0.4780,  0.4107,\n",
      "           0.2962]],\n",
      "\n",
      "        [[-0.0619,  0.4232, -0.6657, -0.0714,  0.7100, -0.2129, -0.8556,\n",
      "           0.1747],\n",
      "         [ 0.5073,  0.1180,  0.2232, -0.4746,  0.1202, -0.5087, -0.5746,\n",
      "          -0.2706]],\n",
      "\n",
      "        [[-0.4026, -0.2068, -0.5620,  0.2659,  0.3675,  0.6346,  0.5677,\n",
      "          -0.2350],\n",
      "         [-0.1220, -0.3302, -0.2359,  0.1231,  0.5168,  0.2501,  0.6149,\n",
      "          -0.7460]],\n",
      "\n",
      "        [[ 0.4548, -0.0333,  0.1240, -0.0499, -0.4204,  0.1680,  0.0921,\n",
      "           0.2493],\n",
      "         [ 0.5800,  0.1771,  0.0279,  0.0269, -0.2989,  0.0553, -0.2891,\n",
      "           0.3899]],\n",
      "\n",
      "        [[-0.4026, -0.8132,  0.1109, -0.3461, -0.4110, -0.5472,  0.0054,\n",
      "           0.8204],\n",
      "         [-0.5609, -0.8317,  0.1370, -0.3791, -0.3819, -0.6318, -0.0194,\n",
      "           0.7368]],\n",
      "\n",
      "        [[ 0.6924, -0.4067, -0.4998, -0.4379, -0.2165, -0.6908,  0.0470,\n",
      "           0.0781],\n",
      "         [ 0.6767, -0.4339, -0.5104, -0.4782, -0.3448, -0.7287,  0.0346,\n",
      "           0.0998]],\n",
      "\n",
      "        [[-0.2856, -0.5682, -0.3099,  0.5805,  0.4020,  0.1013,  0.2717,\n",
      "           0.0957],\n",
      "         [-0.3356, -0.5807, -0.3321,  0.5811,  0.3947,  0.0393,  0.2924,\n",
      "           0.0476]],\n",
      "\n",
      "        [[ 0.1360,  0.1220,  0.4310, -0.1251,  0.3875, -0.3276,  0.3618,\n",
      "          -0.1729],\n",
      "         [ 0.1237,  0.1152,  0.4276, -0.1153,  0.4203, -0.3030,  0.3705,\n",
      "          -0.2018]],\n",
      "\n",
      "        [[ 0.0753, -0.4644,  0.2672, -0.3885,  0.3954,  0.0329, -0.0661,\n",
      "          -0.0701],\n",
      "         [ 0.0698, -0.4671,  0.2757, -0.3853,  0.3820,  0.0224, -0.0689,\n",
      "          -0.0726]],\n",
      "\n",
      "        [[ 0.4942,  0.1388,  0.3564,  0.1916,  0.3304, -0.3886,  0.3302,\n",
      "           0.2090],\n",
      "         [ 0.4906,  0.1436,  0.3520,  0.1878,  0.3373, -0.3924,  0.3265,\n",
      "           0.2045]]], grad_fn=<StackBackward>)\n"
     ]
    }
   ],
   "source": [
    "# (num_layers, N, H_out)\n",
    "\n",
    "print(hidden.shape)\n",
    "print(hidden)"
   ]
  },
  {
   "cell_type": "markdown",
   "id": "c2fee279",
   "metadata": {},
   "source": [
    "## Bidirectional RNN"
   ]
  },
  {
   "cell_type": "code",
   "execution_count": 12,
   "id": "c59801fa",
   "metadata": {},
   "outputs": [],
   "source": [
    "# modelling - Bidirectional RNN\n",
    "\n",
    "cell = nn.RNN(input_size, hidden_size, batch_first=True, bidirectional=True)"
   ]
  },
  {
   "cell_type": "code",
   "execution_count": 13,
   "id": "02fe886f",
   "metadata": {},
   "outputs": [],
   "source": [
    "# output 뽑기\n",
    "\n",
    "# outputs : 모든 시점의 은닉 상태의 값\n",
    "# hidden : 마지막 시점의 은닉 상태의 값\n",
    "\n",
    "outputs, hidden = cell(inputs)"
   ]
  },
  {
   "cell_type": "code",
   "execution_count": 14,
   "id": "9554e1bf",
   "metadata": {},
   "outputs": [
    {
     "name": "stdout",
     "output_type": "stream",
     "text": [
      "torch.Size([2, 4, 16])\n",
      "tensor([[[ 0.4331, -0.1366,  0.0667,  0.3345, -0.2354, -0.2794,  0.0582,\n",
      "          -0.1048,  0.5471, -0.5658,  0.3570,  0.1079,  0.3587,  0.0760,\n",
      "           0.2334,  0.2860],\n",
      "         [ 0.4218, -0.2053, -0.1181,  0.4289, -0.3886, -0.3087,  0.2650,\n",
      "           0.0508, -0.2298, -0.7240, -0.5537, -0.5189, -0.5911, -0.7698,\n",
      "          -0.2365, -0.0926],\n",
      "         [ 1.0000,  1.0000, -1.0000,  1.0000, -1.0000,  1.0000,  1.0000,\n",
      "           1.0000, -1.0000, -1.0000,  1.0000, -1.0000,  1.0000,  1.0000,\n",
      "          -1.0000, -1.0000],\n",
      "         [ 1.0000, -1.0000,  1.0000,  1.0000,  1.0000, -1.0000, -1.0000,\n",
      "          -1.0000,  1.0000, -1.0000, -1.0000, -1.0000,  1.0000, -1.0000,\n",
      "          -1.0000, -1.0000]],\n",
      "\n",
      "        [[ 0.4331, -0.1366,  0.0667,  0.3345, -0.2354, -0.2794,  0.0582,\n",
      "          -0.1048,  0.3613, -0.4168,  0.2051,  0.3820,  0.3476, -0.6169,\n",
      "           0.0468,  0.2883],\n",
      "         [ 0.4218, -0.2053, -0.1181,  0.4289, -0.3886, -0.3087,  0.2650,\n",
      "           0.0508,  0.3165, -0.4493,  0.2133,  0.3274,  0.2769, -0.6128,\n",
      "          -0.0037,  0.1921],\n",
      "         [ 0.4858, -0.2311, -0.1029,  0.4575, -0.4349, -0.2266,  0.2306,\n",
      "           0.1513,  0.3488, -0.4547,  0.1452,  0.2083,  0.2385, -0.4352,\n",
      "           0.0674,  0.1959],\n",
      "         [ 0.4741, -0.2365, -0.1545,  0.4817, -0.4268, -0.2056,  0.2112,\n",
      "           0.2195,  0.1353, -0.3502, -0.0268,  0.0928, -0.0156, -0.4256,\n",
      "          -0.0463, -0.0104]]], grad_fn=<TransposeBackward1>)\n"
     ]
    }
   ],
   "source": [
    "# (N, L, D * H_out) if batch_first=True\n",
    "# (L, N, D * H_out) if batch_first=False\n",
    "\n",
    "# D=2 if bidirectional=True\n",
    "\n",
    "print(outputs.shape)\n",
    "print(outputs)"
   ]
  },
  {
   "cell_type": "code",
   "execution_count": 15,
   "id": "6663aa82",
   "metadata": {},
   "outputs": [
    {
     "name": "stdout",
     "output_type": "stream",
     "text": [
      "torch.Size([2, 2, 8])\n",
      "tensor([[[ 1.0000, -1.0000,  1.0000,  1.0000,  1.0000, -1.0000, -1.0000,\n",
      "          -1.0000],\n",
      "         [ 0.4741, -0.2365, -0.1545,  0.4817, -0.4268, -0.2056,  0.2112,\n",
      "           0.2195]],\n",
      "\n",
      "        [[ 0.5471, -0.5658,  0.3570,  0.1079,  0.3587,  0.0760,  0.2334,\n",
      "           0.2860],\n",
      "         [ 0.3613, -0.4168,  0.2051,  0.3820,  0.3476, -0.6169,  0.0468,\n",
      "           0.2883]]], grad_fn=<StackBackward>)\n"
     ]
    }
   ],
   "source": [
    "# (D* num_layers, N, H_out)\n",
    "\n",
    "# D=2 if bidirectional=True\n",
    "\n",
    "print(hidden.shape)\n",
    "print(hidden)"
   ]
  },
  {
   "cell_type": "code",
   "execution_count": 16,
   "id": "b64d6e5a",
   "metadata": {},
   "outputs": [
    {
     "name": "stdout",
     "output_type": "stream",
     "text": [
      "torch.Size([2, 8])\n",
      "tensor([[ 1.0000, -1.0000,  1.0000,  1.0000,  1.0000, -1.0000, -1.0000, -1.0000],\n",
      "        [ 0.4741, -0.2365, -0.1545,  0.4817, -0.4268, -0.2056,  0.2112,  0.2195]],\n",
      "       grad_fn=<SelectBackward>)\n"
     ]
    }
   ],
   "source": [
    "# 순방향\n",
    "\n",
    "print(hidden[0].shape)\n",
    "print(hidden[0])"
   ]
  },
  {
   "cell_type": "code",
   "execution_count": 17,
   "id": "f25f526a",
   "metadata": {},
   "outputs": [
    {
     "name": "stdout",
     "output_type": "stream",
     "text": [
      "torch.Size([2, 8])\n",
      "tensor([[ 1.0000, -1.0000,  1.0000,  1.0000,  1.0000, -1.0000, -1.0000, -1.0000],\n",
      "        [ 0.4741, -0.2365, -0.1545,  0.4817, -0.4268, -0.2056,  0.2112,  0.2195]],\n",
      "       grad_fn=<SliceBackward>)\n"
     ]
    }
   ],
   "source": [
    "print(hidden[0, :, :].shape)\n",
    "print(hidden[0, :, :])"
   ]
  },
  {
   "cell_type": "code",
   "execution_count": 18,
   "id": "7efdfa16",
   "metadata": {},
   "outputs": [
    {
     "name": "stdout",
     "output_type": "stream",
     "text": [
      "torch.Size([2, 8])\n",
      "tensor([[ 0.5471, -0.5658,  0.3570,  0.1079,  0.3587,  0.0760,  0.2334,  0.2860],\n",
      "        [ 0.3613, -0.4168,  0.2051,  0.3820,  0.3476, -0.6169,  0.0468,  0.2883]],\n",
      "       grad_fn=<SelectBackward>)\n"
     ]
    }
   ],
   "source": [
    "# 역방향\n",
    "\n",
    "print(hidden[1].shape)\n",
    "print(hidden[1])"
   ]
  }
 ],
 "metadata": {
  "kernelspec": {
   "display_name": "py_37_torch",
   "language": "python",
   "name": "py_37_torch"
  },
  "language_info": {
   "codemirror_mode": {
    "name": "ipython",
    "version": 3
   },
   "file_extension": ".py",
   "mimetype": "text/x-python",
   "name": "python",
   "nbconvert_exporter": "python",
   "pygments_lexer": "ipython3",
   "version": "3.7.16"
  },
  "varInspector": {
   "cols": {
    "lenName": 16,
    "lenType": 16,
    "lenVar": 40
   },
   "kernels_config": {
    "python": {
     "delete_cmd_postfix": "",
     "delete_cmd_prefix": "del ",
     "library": "var_list.py",
     "varRefreshCmd": "print(var_dic_list())"
    },
    "r": {
     "delete_cmd_postfix": ") ",
     "delete_cmd_prefix": "rm(",
     "library": "var_list.r",
     "varRefreshCmd": "cat(var_dic_list()) "
    }
   },
   "types_to_exclude": [
    "module",
    "function",
    "builtin_function_or_method",
    "instance",
    "_Feature"
   ],
   "window_display": false
  }
 },
 "nbformat": 4,
 "nbformat_minor": 5
}

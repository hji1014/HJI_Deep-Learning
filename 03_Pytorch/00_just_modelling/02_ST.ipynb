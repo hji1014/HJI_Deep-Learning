{
 "cells": [
  {
   "cell_type": "code",
   "execution_count": 1,
   "id": "b1374b34",
   "metadata": {},
   "outputs": [
    {
     "name": "stdout",
     "output_type": "stream",
     "text": [
      "cuda\n"
     ]
    }
   ],
   "source": [
    "# Device 확인\n",
    "import torch\n",
    "\n",
    "device = torch.device('cuda' if torch.cuda.is_available() else 'cpu')\n",
    "print(device)"
   ]
  },
  {
   "cell_type": "code",
   "execution_count": 2,
   "id": "701fa420",
   "metadata": {},
   "outputs": [],
   "source": [
    "# 모델 정의\n",
    "\n",
    "import torch\n",
    "import torch.nn as nn\n",
    "import torchvision.models as models\n",
    "from torch.nn.utils.rnn import pack_padded_sequence\n",
    "\n",
    "class EncoderCNN(nn.Module):\n",
    "    def __init__(self, embed_size):\n",
    "        # 사전 학습된(pre-trained) ResNet-101을 불러와 FC 레이어를 교체\n",
    "        super(EncoderCNN, self).__init__()\n",
    "        resnet = models.resnet101(pretrained=True)\n",
    "        modules = list(resnet.children())[:-1] # 마지막 FC 레이어를 제거\n",
    "        self.resnet = nn.Sequential(*modules)\n",
    "        self.linear = nn.Linear(resnet.fc.in_features, embed_size) # 결과(output) 차원을 임베딩 차원으로 변경\n",
    "        self.bn = nn.BatchNorm1d(embed_size, momentum=0.01)\n",
    "\n",
    "    def forward(self, images):\n",
    "        # 입력 이미지에서 특징 벡터(feature vectors)\n",
    "        with torch.no_grad(): # 네트워크의 앞 부분은 변경되지 않도록 하기\n",
    "            features = self.resnet(images)\n",
    "        features = features.reshape(features.size(0), -1)\n",
    "        #features = self.bn(self.linear(features))\n",
    "        features = self.linear(features)\n",
    "        return features\n",
    "\n",
    "class DecoderRNN(nn.Module):\n",
    "    def __init__(self, embed_size, hidden_size, vocab_size, num_layers, max_seq_length=20):\n",
    "        # 하이퍼 파라미터(hyper-parameters) 설정 및 레이어 생성\n",
    "        super(DecoderRNN, self).__init__()\n",
    "        self.embed = nn.Embedding(vocab_size, embed_size)\n",
    "        self.lstm = nn.LSTM(embed_size, hidden_size, num_layers, batch_first=True)\n",
    "        self.linear = nn.Linear(hidden_size, vocab_size)\n",
    "        self.max_seg_length = max_seq_length\n",
    "\n",
    "    def forward(self, features, captions, lengths):\n",
    "        # 이미지 특징 벡터(feature vectors)로부터 캡션(caption) 생성\n",
    "        embeddings = self.embed(captions)\n",
    "        embeddings = torch.cat((features.unsqueeze(1), embeddings), 1) # 이미지 특징과 임베딩 연결\n",
    "        packed = pack_padded_sequence(embeddings, lengths, batch_first=True) # 패딩을 넣어 차원 맞추기\n",
    "        hiddens, _ = self.lstm(packed) # 다음 hidden state 구하기\n",
    "        outputs = self.linear(hiddens[0])\n",
    "        return outputs\n",
    "\n",
    "    def sample(self, features, states=None):\n",
    "        # 간단히 그리디(greedy) 탐색으로 캡션(caption) 생성하기\n",
    "        sampled_indexes = []\n",
    "        inputs = features.unsqueeze(1)\n",
    "        for i in range(self.max_seg_length):\n",
    "            hiddens, states = self.lstm(inputs, states) # hiddens: (batch_size, 1, hidden_size)\n",
    "            outputs = self.linear(hiddens.squeeze(1)) # outputs: (batch_size, vocab_size)\n",
    "            _, predicted = outputs.max(1) # predicted: (batch_size)\n",
    "            sampled_indexes.append(predicted)\n",
    "            inputs = self.embed(predicted) # inputs: (batch_size, embed_size)\n",
    "            inputs = inputs.unsqueeze(1) # inputs: (batch_size, 1, embed_size)\n",
    "        sampled_indexes = torch.stack(sampled_indexes, 1) # sampled_indexes: (batch_size, max_seq_length)\n",
    "        return sampled_indexes"
   ]
  },
  {
   "cell_type": "code",
   "execution_count": 3,
   "id": "8cafe11e",
   "metadata": {},
   "outputs": [],
   "source": [
    "# 모델 하이퍼 파라미터 설정\n",
    "\n",
    "embed_size = 256 # 임베딩(embedding) 차원\n",
    "hidden_size = 512 # LSTM hidden states 차원\n",
    "num_layers = 1 # LSTM의 레이어 개수\n",
    "vocab_len = 1000"
   ]
  },
  {
   "cell_type": "code",
   "execution_count": 4,
   "id": "92d4bb72",
   "metadata": {},
   "outputs": [],
   "source": [
    "# 모델 객체 선언\n",
    "\n",
    "encoder = EncoderCNN(embed_size).to(device)\n",
    "decoder = DecoderRNN(embed_size, hidden_size, vocab_len, num_layers).to(device)"
   ]
  },
  {
   "cell_type": "code",
   "execution_count": 5,
   "id": "4ba0ec48",
   "metadata": {},
   "outputs": [
    {
     "name": "stdout",
     "output_type": "stream",
     "text": [
      "features의 shape : torch.Size([1, 256])\n",
      "outputs의 shape : torch.Size([20, 1000])\n"
     ]
    }
   ],
   "source": [
    "# 임의의 데이터 넣고 출력 확인\n",
    "\n",
    "# images : img 데이터 1개\n",
    "# captions : text 데이터 1개\n",
    "# lengths : caption들의 길이를 담고 있는 list\n",
    "# targets : 실제 학습 시 loss 계산을 위해 사용되는 정답값\n",
    "\n",
    "images = torch.zeros(1, 3, 224, 224).to(device)\n",
    "captions = torch.LongTensor([[0, 1, 2, 3, 4, 100, 101, 103, 205, 20, 21, 13, 122, 20, 50, 10, 23, 66, 69, 0]]).to(device)\n",
    "lengths = torch.LongTensor([20])\n",
    "targets = pack_padded_sequence(captions, lengths, batch_first=True)\n",
    "\n",
    "with torch.no_grad():\n",
    "    features = encoder(images)\n",
    "    outputs = decoder(features, captions, lengths)\n",
    "\n",
    "print('features의 shape :', features.shape)\n",
    "print('outputs의 shape :', outputs.shape)"
   ]
  },
  {
   "cell_type": "code",
   "execution_count": null,
   "id": "401d76c3",
   "metadata": {},
   "outputs": [],
   "source": []
  }
 ],
 "metadata": {
  "kernelspec": {
   "display_name": "py_37_torch",
   "language": "python",
   "name": "py_37_torch"
  },
  "language_info": {
   "codemirror_mode": {
    "name": "ipython",
    "version": 3
   },
   "file_extension": ".py",
   "mimetype": "text/x-python",
   "name": "python",
   "nbconvert_exporter": "python",
   "pygments_lexer": "ipython3",
   "version": "3.7.16"
  },
  "varInspector": {
   "cols": {
    "lenName": 16,
    "lenType": 16,
    "lenVar": 40
   },
   "kernels_config": {
    "python": {
     "delete_cmd_postfix": "",
     "delete_cmd_prefix": "del ",
     "library": "var_list.py",
     "varRefreshCmd": "print(var_dic_list())"
    },
    "r": {
     "delete_cmd_postfix": ") ",
     "delete_cmd_prefix": "rm(",
     "library": "var_list.r",
     "varRefreshCmd": "cat(var_dic_list()) "
    }
   },
   "types_to_exclude": [
    "module",
    "function",
    "builtin_function_or_method",
    "instance",
    "_Feature"
   ],
   "window_display": false
  }
 },
 "nbformat": 4,
 "nbformat_minor": 5
}

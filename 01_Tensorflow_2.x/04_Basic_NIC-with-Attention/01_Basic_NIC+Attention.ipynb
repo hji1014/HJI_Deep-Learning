{
 "cells": [
  {
   "cell_type": "markdown",
   "id": "08551059",
   "metadata": {},
   "source": [
    "## Show, Attend and Tell: Neural Image Caption Generation with Visual Attention\n",
    "------\n",
    "- Reference : https://doi.org/10.48550/arXiv.1502.03044\n",
    "- Code ref : https://www.kaggle.com/code/khanrahim/flickr8k-show-attend-and-tell\n",
    "  \n",
    "![NIC_Attention](https://github.com/hji1014/HJI_Deep-Learning/assets/59729115/9cc7f059-b804-4a68-8d60-acb407a25fc7)  "
   ]
  },
  {
   "cell_type": "code",
   "execution_count": 3,
   "id": "0fa6cd92",
   "metadata": {},
   "outputs": [
    {
     "name": "stdout",
     "output_type": "stream",
     "text": [
      "2.5.0\n"
     ]
    }
   ],
   "source": [
    "import tensorflow as tf\n",
    "print(tf.__version__)"
   ]
  },
  {
   "cell_type": "code",
   "execution_count": 4,
   "id": "f931e4f7",
   "metadata": {},
   "outputs": [
    {
     "data": {
      "text/plain": [
       "[name: \"/device:CPU:0\"\n",
       " device_type: \"CPU\"\n",
       " memory_limit: 268435456\n",
       " locality {\n",
       " }\n",
       " incarnation: 9795939581780974944,\n",
       " name: \"/device:GPU:0\"\n",
       " device_type: \"GPU\"\n",
       " memory_limit: 5742002176\n",
       " locality {\n",
       "   bus_id: 1\n",
       "   links {\n",
       "   }\n",
       " }\n",
       " incarnation: 15915460981788460742\n",
       " physical_device_desc: \"device: 0, name: NVIDIA GeForce RTX 3060 Ti, pci bus id: 0000:01:00.0, compute capability: 8.6\"]"
      ]
     },
     "execution_count": 4,
     "metadata": {},
     "output_type": "execute_result"
    }
   ],
   "source": [
    "# tensorflow device 확인\n",
    "from tensorflow.python.client import device_lib\n",
    "device_lib.list_local_devices()"
   ]
  },
  {
   "cell_type": "code",
   "execution_count": null,
   "id": "ff83f134",
   "metadata": {},
   "outputs": [],
   "source": [
    "# tensorflow version 확인 후 GPU 확인\n",
    "import tensorflow as tf\n",
    "\n",
    "print(f'tf.__version__: {tf.__version__}')\n",
    "\n",
    "gpus = tf.config.experimental.list_physical_devices('GPU')\n",
    "# tf.config.list_physical_devices('GPU') 이 코드도 가능\n",
    "for gpu in gpus:\n",
    "    print(gpu)"
   ]
  },
  {
   "cell_type": "markdown",
   "id": "b694fa07",
   "metadata": {},
   "source": [
    "### [Import Libraries]"
   ]
  },
  {
   "cell_type": "code",
   "execution_count": null,
   "id": "4b147be4",
   "metadata": {},
   "outputs": [],
   "source": [
    "#Import all the required libraries\n",
    "\n",
    "# System Libraries \n",
    "import os, glob\n",
    "from glob import glob\n",
    "import pickle\n",
    "from sys import getsizeof\n",
    "\n",
    "# Date and Time \n",
    "import datetime,time\n",
    "\n",
    "# Data manipulation\n",
    "import numpy as np\n",
    "import pandas as pd\n",
    "import collections, random, re\n",
    "from collections import Counter\n",
    "\n",
    "\n",
    "# Model building \n",
    "from sklearn.model_selection import train_test_split\n",
    "from sklearn.utils import shuffle\n",
    "\n",
    "\n",
    "#Read/Display  images\n",
    "from skimage import io\n",
    "from PIL import Image\n",
    "import matplotlib.pyplot as plt\n",
    "import matplotlib.image as mpimg\n",
    "\n",
    "import warnings\n",
    "warnings.filterwarnings(\"ignore\")\n",
    "\n",
    "# tensorflow Libraries\n",
    "import tensorflow as tf\n",
    "from tensorflow import keras\n",
    "from tensorflow.keras import layers, Model\n",
    "from tensorflow.keras.preprocessing.image import load_img, img_to_array\n",
    "from tensorflow.keras.utils import plot_model"
   ]
  },
  {
   "cell_type": "code",
   "execution_count": null,
   "id": "ac75944a",
   "metadata": {},
   "outputs": [],
   "source": []
  }
 ],
 "metadata": {
  "kernelspec": {
   "display_name": "py_37_kernel",
   "language": "python",
   "name": "py_37"
  },
  "language_info": {
   "codemirror_mode": {
    "name": "ipython",
    "version": 3
   },
   "file_extension": ".py",
   "mimetype": "text/x-python",
   "name": "python",
   "nbconvert_exporter": "python",
   "pygments_lexer": "ipython3",
   "version": "3.7.4"
  }
 },
 "nbformat": 4,
 "nbformat_minor": 5
}

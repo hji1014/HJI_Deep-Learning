{
 "cells": [
  {
   "cell_type": "code",
   "execution_count": null,
   "id": "0c22ca15",
   "metadata": {},
   "outputs": [],
   "source": [
    "from keras.datasets import mnist\n",
    "from keras.utils import np_utils\n",
    "from keras.models import Sequential\n",
    "from keras.layers import Dense\n",
    "from keras.callbacks import ModelCheckpoint,EarlyStopping\n",
    "from sklearn.model_selection import StratifiedKFold\n",
    "\n",
    "import matplotlib.pyplot as plt\n",
    "import numpy\n",
    "import os\n",
    "import tensorflow as tf\n",
    "\n",
    "# seed 값 설정\n",
    "seed = 0\n",
    "numpy.random.seed(seed)\n",
    "tf.random.set_seed(3)\n",
    "\n",
    "# MNIST 데이터 불러오기\n",
    "(X_train, Y_train), (X_test, Y_test) = mnist.load_data()\n",
    "\n",
    "X = X_train.reshape(X_train.shape[0], 784).astype('float32') / 255\n",
    "Y = Y_train\n",
    "Y_categorical = np_utils.to_categorical(Y_train, 10)\n",
    "\n",
    "# 10개의 파일로 쪼갬\n",
    "n_fold = 10\n",
    "skf = StratifiedKFold(n_splits=n_fold, shuffle=True, random_state=seed)\n",
    "accuracy = []\n",
    "i = 1\n",
    "\n",
    "for train, test in skf.split(X, Y):\n",
    "    model = Sequential()\n",
    "    model.add(Dense(512, input_dim=784, activation='relu'))\n",
    "    model.add(Dense(10, activation='softmax'))\n",
    "    model.compile(loss='categorical_crossentropy', optimizer='adam', metrics=['accuracy'])\n",
    "    model.fit(X[train], Y_categorical[train], epochs=30, batch_size=200, verbose=2)\n",
    "    k_accuracy = \"%.4f\" % (model.evaluate(X[test], Y_categorical[test])[1])\n",
    "    accuracy.append(k_accuracy)\n",
    "    print(\"\\n 현재 fold accuracy :\", k_accuracy)\n",
    "    i += 1\n",
    "    \n",
    "print(\"\\n %.8f fold accuracy : \" % n_fold, accuracy)\n",
    "np_acc = np.array(accuracy)\n",
    "print(\" %.8f fold 평균 정확도 : \" % n_fold, avg_acc)"
   ]
  }
 ],
 "metadata": {
  "kernelspec": {
   "display_name": "py_365",
   "language": "python",
   "name": "py_365"
  },
  "language_info": {
   "codemirror_mode": {
    "name": "ipython",
    "version": 3
   },
   "file_extension": ".py",
   "mimetype": "text/x-python",
   "name": "python",
   "nbconvert_exporter": "python",
   "pygments_lexer": "ipython3",
   "version": "3.6.5"
  }
 },
 "nbformat": 4,
 "nbformat_minor": 5
}
